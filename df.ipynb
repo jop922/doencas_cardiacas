{
 "cells": [
  {
   "cell_type": "markdown",
   "metadata": {},
   "source": [
    "### ***Estrutura do código:***"
   ]
  },
  {
   "cell_type": "markdown",
   "metadata": {},
   "source": [
    "**Introdução**\n",
    "Descrever os problemas e objetivos\n"
   ]
  },
  {
   "cell_type": "markdown",
   "metadata": {},
   "source": [
    "**Configurando o ambiente**\n",
    "\n",
    "1. **Qual é a distribuição da idade dos pacientes no conjunto de dados?**\n",
    "2. **Existe alguma correlação entre o colesterol em repouso e a frequência cardíaca máxima atingida?**\n",
    "3. **Qual é a proporção de homens e mulheres no conjunto de dados?**\n",
    "4. **Há alguma relação entre o tipo de dor no peito e a presença de angina de exercício?**\n",
    "5. **Qual é a distribuição da glicemia em jejum dos pacientes?**\n"
   ]
  },
  {
   "cell_type": "markdown",
   "metadata": {},
   "source": [
    "# **Instalação e Importação das bibliotecas**"
   ]
  },
  {
   "cell_type": "code",
   "execution_count": null,
   "metadata": {
    "vscode": {
     "languageId": "plaintext"
    }
   },
   "outputs": [],
   "source": []
  }
 ],
 "metadata": {
  "language_info": {
   "name": "python"
  }
 },
 "nbformat": 4,
 "nbformat_minor": 2
}
